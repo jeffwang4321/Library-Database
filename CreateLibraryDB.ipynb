{
 "cells": [
  {
   "cell_type": "code",
   "execution_count": 4,
   "metadata": {},
   "outputs": [
    {
     "name": "stdout",
     "output_type": "stream",
     "text": [
      "The sql extension is already loaded. To reload it, use:\n",
      "  %reload_ext sql\n"
     ]
    }
   ],
   "source": [
    "%load_ext sql"
   ]
  },
  {
   "cell_type": "code",
   "execution_count": 5,
   "metadata": {},
   "outputs": [
    {
     "data": {
      "text/plain": [
       "'Connected: @library.db'"
      ]
     },
     "execution_count": 5,
     "metadata": {},
     "output_type": "execute_result"
    }
   ],
   "source": [
    "%sql sqlite:///library.db"
   ]
  },
  {
   "cell_type": "markdown",
   "metadata": {},
   "source": [
    "CREATE Item"
   ]
  },
  {
   "cell_type": "code",
   "execution_count": 91,
   "metadata": {},
   "outputs": [
    {
     "name": "stdout",
     "output_type": "stream",
     "text": [
      " * sqlite:///library.db\n",
      "Done.\n"
     ]
    },
    {
     "data": {
      "text/plain": [
       "[]"
      ]
     },
     "execution_count": 91,
     "metadata": {},
     "output_type": "execute_result"
    }
   ],
   "source": [
    "%%sql\n",
    "CREATE TABLE Item (\n",
    "    ID INT PRIMARY KEY,\n",
    "    title VARCHAR(255) NOT NULL,\n",
    "    author VARCHAR(255) NOT NULL,\n",
    "    edition VARCHAR(255),\n",
    "    year YEAR,\n",
    "    genre VARCHAR(255),\n",
    "    quantity INT DEFAULT 0,\n",
    "    numAvailable INT DEFAULT 0\n",
    ");"
   ]
  },
  {
   "cell_type": "markdown",
   "metadata": {},
   "source": [
    "CREATE ItemCopy"
   ]
  },
  {
   "cell_type": "code",
   "execution_count": 92,
   "metadata": {},
   "outputs": [
    {
     "name": "stdout",
     "output_type": "stream",
     "text": [
      " * sqlite:///library.db\n",
      "Done.\n"
     ]
    },
    {
     "data": {
      "text/plain": [
       "[]"
      ]
     },
     "execution_count": 92,
     "metadata": {},
     "output_type": "execute_result"
    }
   ],
   "source": [
    "%%sql \n",
    "CREATE TABLE ItemCopy (\n",
    "    itemID INT REFERENCES Item(ID),\n",
    "    copyNum INT,\n",
    "    type VARCHAR (255) NOT NULL,\n",
    "    status VARCHAR (255) NOT NULL,\n",
    "    PRIMARY KEY (itemID, copyNum)\n",
    "    CHECK ((status = 'Available' or status = 'Not Available')\n",
    "           and (type = 'e-book' or type = 'audio book' or type = 'print'))\n",
    ");"
   ]
  },
  {
   "cell_type": "markdown",
   "metadata": {},
   "source": [
    "CREATE FutureItem"
   ]
  },
  {
   "cell_type": "code",
   "execution_count": 25,
   "metadata": {},
   "outputs": [
    {
     "name": "stdout",
     "output_type": "stream",
     "text": [
      " * sqlite:///library.db\n",
      "Done.\n"
     ]
    },
    {
     "data": {
      "text/plain": [
       "[]"
      ]
     },
     "execution_count": 25,
     "metadata": {},
     "output_type": "execute_result"
    }
   ],
   "source": [
    "%%sql\n",
    "CREATE TABLE FutureItem (\n",
    "    ID INT PRIMARY KEY,\n",
    "    title VARCHAR(255) NOT NULL,\n",
    "    author VARCHAR(255) NOT NULL,\n",
    "    edition VARCHAR(255),\n",
    "    year YEAR,\n",
    "    genre VARCHAR(255),\n",
    "    quantity INT DEFAULT 0,\n",
    "    type VARCHAR(255) NOT NULL,\n",
    "    arrivalDate date NOT NULL\n",
    ");"
   ]
  },
  {
   "cell_type": "markdown",
   "metadata": {},
   "source": [
    "CREATE Person"
   ]
  },
  {
   "cell_type": "code",
   "execution_count": 35,
   "metadata": {},
   "outputs": [
    {
     "name": "stdout",
     "output_type": "stream",
     "text": [
      " * sqlite:///library.db\n",
      "Done.\n"
     ]
    },
    {
     "data": {
      "text/plain": [
       "[]"
      ]
     },
     "execution_count": 35,
     "metadata": {},
     "output_type": "execute_result"
    }
   ],
   "source": [
    "%%sql\n",
    "CREATE TABLE Person (\n",
    "    ID INT PRIMARY KEY,\n",
    "    firstName VARCHAR(255) NOT NULL,\n",
    "    lastName VARCHAR(255) NOT NULL,\n",
    "    age INT NOT NULL,\n",
    "    owes INT DEFAULT 0\n",
    ");"
   ]
  },
  {
   "cell_type": "markdown",
   "metadata": {},
   "source": [
    "CREATE Event"
   ]
  },
  {
   "cell_type": "code",
   "execution_count": 139,
   "metadata": {},
   "outputs": [
    {
     "name": "stdout",
     "output_type": "stream",
     "text": [
      " * sqlite:///library.db\n",
      "Done.\n"
     ]
    },
    {
     "data": {
      "text/plain": [
       "[]"
      ]
     },
     "execution_count": 139,
     "metadata": {},
     "output_type": "execute_result"
    }
   ],
   "source": [
    "%%sql\n",
    "CREATE TABLE Event (\n",
    "    ID INT PRIMARY KEY,\n",
    "    eventName VARCHAR (255) NOT NULL,\n",
    "    date date NOT NULL,\n",
    "    room INT NOT NULL,\n",
    "    startTime TIME NOT NULL,\n",
    "    endTime TIME NOT NULL,\n",
    "    fee INT DEFAULT 0,\n",
    "    recommendedAge VARCHAR(30) DEFAULT 'ANY'\n",
    ");"
   ]
  },
  {
   "cell_type": "markdown",
   "metadata": {},
   "source": [
    "CREATE Registered"
   ]
  },
  {
   "cell_type": "code",
   "execution_count": 153,
   "metadata": {},
   "outputs": [
    {
     "name": "stdout",
     "output_type": "stream",
     "text": [
      " * sqlite:///library.db\n",
      "Done.\n"
     ]
    },
    {
     "data": {
      "text/plain": [
       "[]"
      ]
     },
     "execution_count": 153,
     "metadata": {},
     "output_type": "execute_result"
    }
   ],
   "source": [
    "%%sql\n",
    "CREATE TABLE Registered (\n",
    "    personID INT REFERENCES Person(ID),\n",
    "    eventID INT REFERENCES Event(ID),\n",
    "    PRIMARY KEY (personID, eventID)\n",
    ");"
   ]
  },
  {
   "cell_type": "markdown",
   "metadata": {},
   "source": [
    "CREATE CheckedOut"
   ]
  },
  {
   "cell_type": "code",
   "execution_count": 67,
   "metadata": {},
   "outputs": [
    {
     "name": "stdout",
     "output_type": "stream",
     "text": [
      " * sqlite:///library.db\n",
      "Done.\n"
     ]
    },
    {
     "data": {
      "text/plain": [
       "[]"
      ]
     },
     "execution_count": 67,
     "metadata": {},
     "output_type": "execute_result"
    }
   ],
   "source": [
    "%%sql\n",
    "CREATE TABLE CheckedOut (\n",
    "    itemID INT REFERENCES ItemCopy(itemID),\n",
    "    personID INT REFERENCES Person(ID),\n",
    "    copyID INT REFERENCES ItemCopy(ID),\n",
    "    PRIMARY KEY (personID, copyID, itemID)\n",
    ");"
   ]
  },
  {
   "cell_type": "markdown",
   "metadata": {},
   "source": [
    "CREATE Dues"
   ]
  },
  {
   "cell_type": "code",
   "execution_count": 72,
   "metadata": {},
   "outputs": [
    {
     "name": "stdout",
     "output_type": "stream",
     "text": [
      " * sqlite:///library.db\n",
      "Done.\n"
     ]
    },
    {
     "data": {
      "text/plain": [
       "[]"
      ]
     },
     "execution_count": 72,
     "metadata": {},
     "output_type": "execute_result"
    }
   ],
   "source": [
    "%%sql\n",
    "CREATE TABLE Dues (\n",
    "    itemID INT REFERENCES ItemCopy(itemID),\n",
    "    personID INT REFERENCES CheckedOut(personID),\n",
    "    copyID INT REFERENCES CheckedOut(copyID),\n",
    "    dueDate VARCHAR(30) NOT NULL,\n",
    "    PRIMARY KEY (itemID, personID, copyID)\n",
    ");"
   ]
  },
  {
   "cell_type": "markdown",
   "metadata": {},
   "source": [
    "CREATE Staff"
   ]
  },
  {
   "cell_type": "code",
   "execution_count": 24,
   "metadata": {},
   "outputs": [
    {
     "name": "stdout",
     "output_type": "stream",
     "text": [
      " * sqlite:///library.db\n",
      "Done.\n"
     ]
    },
    {
     "data": {
      "text/plain": [
       "[]"
      ]
     },
     "execution_count": 24,
     "metadata": {},
     "output_type": "execute_result"
    }
   ],
   "source": [
    "%%sql\n",
    "CREATE TABLE Staff (\n",
    "    ID INT PRIMARY KEY,\n",
    "    firstName VARCHAR(255) NOT NULL,\n",
    "    lastName VARCHAR(255) NOT NULL,\n",
    "    age INT NOT NULL,\n",
    "    gender VARCHAR(1),\n",
    "    role VARCHAR(255) NOT NULL,\n",
    "    CHECK (gender = 'F' OR gender = 'M') \n",
    ");"
   ]
  },
  {
   "cell_type": "markdown",
   "metadata": {},
   "source": [
    "POPULATE Item"
   ]
  },
  {
   "cell_type": "code",
   "execution_count": 95,
   "metadata": {},
   "outputs": [
    {
     "name": "stdout",
     "output_type": "stream",
     "text": [
      " * sqlite:///library.db\n",
      "10 rows affected.\n"
     ]
    },
    {
     "data": {
      "text/plain": [
       "[]"
      ]
     },
     "execution_count": 95,
     "metadata": {},
     "output_type": "execute_result"
    }
   ],
   "source": [
    "%%sql\n",
    "INSERT INTO Item (ID, title, author, edition, year, genre)\n",
    "VALUES (1, 'Flowers for Algernon', 'Daniel Keyes', NULL, 1966, 'FIC'),\n",
    "    (2, 'Illuminae', 'Amie Kaufman', NULL, 2015, 'FIC'),\n",
    "    (3, 'Gemina', 'Amie Kaufman', NULL, 2016, 'FIC'),\n",
    "    (4, 'Obsidio', 'Amie Kaufman', NULL, 2018, 'FIC'),\n",
    "    (5, 'Scythe', 'Neal Shusterman', NULL, 2016, 'FIC'),\n",
    "    (6, 'Thunderhead', 'Neal Shusterman', NULL, 2018, 'FIC'),\n",
    "    (7, 'The Toll', 'Neal Shusterman', NULL, 2019, 'FIC'),\n",
    "    (8, 'The Push', 'Tommy Caldwell', NULL, 2017, 'NON FIC'),\n",
    "    (9, 'Gripped', 'Assorted', 'March', 2018, 'NON FIC'),\n",
    "    (10, 'Five Ingredient Vegan', 'Katy Beskow', NULL, 2020, 'NON FIC')"
   ]
  },
  {
   "cell_type": "markdown",
   "metadata": {},
   "source": [
    "POPULATE ItemCopy"
   ]
  },
  {
   "cell_type": "code",
   "execution_count": 96,
   "metadata": {},
   "outputs": [
    {
     "name": "stdout",
     "output_type": "stream",
     "text": [
      " * sqlite:///library.db\n",
      "12 rows affected.\n"
     ]
    },
    {
     "data": {
      "text/plain": [
       "[]"
      ]
     },
     "execution_count": 96,
     "metadata": {},
     "output_type": "execute_result"
    }
   ],
   "source": [
    "%%sql\n",
    "INSERT INTO ItemCopy (itemID, copyNum, type, status)\n",
    "VALUES (1, 1, 'print', 'Available'),\n",
    "    (1, 2, 'print', 'Available'),\n",
    "    (2, 1, 'print', 'Available'),\n",
    "    (3, 1, 'print', 'Available'),\n",
    "    (4, 1, 'print', 'Available'),\n",
    "    (5, 1, 'print', 'Available'),\n",
    "    (6, 1, 'print', 'Available'),\n",
    "    (7, 1, 'print', 'Available'),\n",
    "    (8, 1, 'print', 'Available'),\n",
    "    (9, 1, 'print', 'Available'),\n",
    "    (10, 1, 'print', 'Available'),\n",
    "    (10, 2, 'e-book', 'Available')"
   ]
  },
  {
   "cell_type": "markdown",
   "metadata": {},
   "source": [
    "POPULATE FutureItem"
   ]
  },
  {
   "cell_type": "code",
   "execution_count": 37,
   "metadata": {},
   "outputs": [
    {
     "name": "stdout",
     "output_type": "stream",
     "text": [
      " * sqlite:///library.db\n",
      "9 rows affected.\n"
     ]
    },
    {
     "data": {
      "text/plain": [
       "[]"
      ]
     },
     "execution_count": 37,
     "metadata": {},
     "output_type": "execute_result"
    }
   ],
   "source": [
    "%%sql\n",
    "INSERT INTO FutureItem (ID, title, author, edition, year, genre, quantity, type, arrivalDate)\n",
    "VALUES (100, 'Harry Potter and the The Philosophers Stone', 'J.K. Rowling', 'NULL', 1997, 'FIC', 10, 'print', '05-23-2021'),\n",
    "    (101, 'Harry Potter and The Chamber of Secrets', 'J.K. Rowling', 'NULL', 1998, 'FIC', 10, 'print', '05-23-2021'),\n",
    "    (102, 'Harry Potter and The Prisoner of Azkaban', 'J.K. Rowling', 'NULL', 1999, 'FIC', 10, 'print', '05-23-2021'),\n",
    "    (103, 'Harry Potter and The Goblet of Fire', 'J.K. Rowling', 'NULL', 2000, 'FIC', 10, 'print', '05-23-2021'),\n",
    "    (104, 'Harry Potter and The Order of the Phoenix', 'J.K. Rowling', 'NULL', 2003, 'FIC', 10, 'print', '05-23-2021'),\n",
    "    (105, 'Harry Potter and The Half-Blood Prince', 'J.K. Rowling', 'NULL', 2005, 'FIC', 10, 'print', '05-23-2021'),\n",
    "    (106, 'Harry Potter and The Deathly Hallows', 'J.K. Rowling', 'NULL', 2007, 'FIC', 10, 'print', '05-23-2021'),\n",
    "    (107, 'Harry Potter and Quidditch Through the Ages', 'J.K. Rowling', 'NULL', 2001, 'FIC', 10, 'print', '05-23-2021'),\n",
    "    (108, 'Harry Potter and Fantastic Beasts and Where to Find Them', 'J.K. Rowling', 'NULL', 2001, 'FIC', 10, 'print', '05-23-2021'),\n",
    "    (109, 'Harry Potter and The Tales of Beedle the Bard', 'J.K. Rowling', 'NULL', 2007, 'FIC', 10, 'print', '05-23-2021')\n"
   ]
  },
  {
   "cell_type": "markdown",
   "metadata": {},
   "source": [
    "POPULATE Person"
   ]
  },
  {
   "cell_type": "code",
   "execution_count": 36,
   "metadata": {},
   "outputs": [
    {
     "name": "stdout",
     "output_type": "stream",
     "text": [
      " * sqlite:///library.db\n",
      "10 rows affected.\n"
     ]
    },
    {
     "data": {
      "text/plain": [
       "[]"
      ]
     },
     "execution_count": 36,
     "metadata": {},
     "output_type": "execute_result"
    }
   ],
   "source": [
    "%%sql\n",
    "INSERT INTO Person (ID, firstName, lastName, age)\n",
    "VALUES (1, 'Meredeth', 'Aldrich', 29),\n",
    "    (2, 'Isiahi', 'Mitchelson', 21),\n",
    "    (3, 'Florian', 'Fordyce', 16),\n",
    "    (4, 'Penrod', 'Squirrel', 9),\n",
    "    (5, 'Deck', 'Slane', 44),\n",
    "    (6, 'Ciel', 'Gabbitus', 35),\n",
    "    (7, 'Garvey', 'Burnside', 8),\n",
    "    (8, 'Jewell', 'Yakunchikov', 26),\n",
    "    (9, 'Marlane', 'De Goey', 40),\n",
    "    (10, 'Mauricio', 'Fidell', 24)"
   ]
  },
  {
   "cell_type": "markdown",
   "metadata": {},
   "source": [
    "POPULATE Event"
   ]
  },
  {
   "cell_type": "code",
   "execution_count": 140,
   "metadata": {},
   "outputs": [
    {
     "name": "stdout",
     "output_type": "stream",
     "text": [
      " * sqlite:///library.db\n",
      "10 rows affected.\n"
     ]
    },
    {
     "data": {
      "text/plain": [
       "[]"
      ]
     },
     "execution_count": 140,
     "metadata": {},
     "output_type": "execute_result"
    }
   ],
   "source": [
    "%%sql\n",
    "INSERT INTO Event (ID, eventName, date, room, startTime, endTime, fee, recommendedAge)\n",
    "VALUES (1, 'Book Club', '05-23-2020', 1, '19:00', '20:00', 0, 'ANY'),\n",
    "    (2, 'Resume Workshop', '05-23-2020', 2, '07:00', '08:00', 0, 'ANY'),\n",
    "    (3, 'Book Club', '05-30-2020', 1, '19:00', '20:00', 0, 'ANY'),\n",
    "    (4, 'Tech Workshop', '06-3-2020', 5, '09:00', '10:00', 0, 'ANY'),\n",
    "    (5, 'Book Club', '06-07-2020', 1, '19:00', '20:00', 0, 'ANY'),\n",
    "    (6, 'Story Time', '05-23-2020', 1, '13:00', '14:00', 0, 'Children age 2-5'),\n",
    "    (7, 'Book Club', '06-14-2020', 1, '19:00', '20:00', 0, 'ANY'),\n",
    "    (8, 'Book Signing', '06-15-2020', 3, '08:00', '09:00', 0, 'ANY'),\n",
    "    (9, 'Interview Workshop', '06-19-2020', 2, '07:00', '08:00', 0, 'ANY'),\n",
    "    (10, 'Book Club', '06-21-2020', 1, '19:00', '20:00', 0, 'ANY')"
   ]
  },
  {
   "cell_type": "markdown",
   "metadata": {},
   "source": [
    "POPULATE Registered"
   ]
  },
  {
   "cell_type": "code",
   "execution_count": 154,
   "metadata": {},
   "outputs": [
    {
     "name": "stdout",
     "output_type": "stream",
     "text": [
      " * sqlite:///library.db\n",
      "10 rows affected.\n"
     ]
    },
    {
     "data": {
      "text/plain": [
       "[]"
      ]
     },
     "execution_count": 154,
     "metadata": {},
     "output_type": "execute_result"
    }
   ],
   "source": [
    "%%sql\n",
    "INSERT INTO Registered (eventID, personID)\n",
    "VALUES (1,1),\n",
    "    (2,3),\n",
    "    (3,1),\n",
    "    (4,3),\n",
    "    (5,1),\n",
    "    (6,5),\n",
    "    (7,2),\n",
    "    (8,4),\n",
    "    (9,3),\n",
    "    (10,1)"
   ]
  },
  {
   "cell_type": "markdown",
   "metadata": {},
   "source": [
    "POPULATE Staff"
   ]
  },
  {
   "cell_type": "code",
   "execution_count": 158,
   "metadata": {},
   "outputs": [
    {
     "name": "stdout",
     "output_type": "stream",
     "text": [
      " * sqlite:///library.db\n",
      "10 rows affected.\n"
     ]
    },
    {
     "data": {
      "text/plain": [
       "[]"
      ]
     },
     "execution_count": 158,
     "metadata": {},
     "output_type": "execute_result"
    }
   ],
   "source": [
    "%%sql\n",
    "INSERT INTO Staff (ID, firstName, lastName, age, gender, role)\n",
    "VALUES (1, 'Fairlie', 'Hender', 23, 'M', 'Librarian'),\n",
    "    (2, 'Laurence', 'Waudby', 43, 'M', 'Custodian'),\n",
    "    (3, 'Royall', 'Mottley',30, 'M', 'IT'),\n",
    "    (4, 'Peta', 'Brahan', 28, 'F', 'Librarian'),\n",
    "    (5, 'Godwin', 'Dacey', 42, 'M', 'Custodian'),\n",
    "    (6, 'Ofilia', 'Crichmer', 38, 'F', 'Security'),\n",
    "    (7, 'Theresina', 'Dufoure', 27, 'F', 'Manager'),\n",
    "    (8, 'Isa', 'Songhurst', 20, 'M', 'Librarian'),\n",
    "    (9, 'Starla', 'Ling', 18, 'F', 'Book Shelver'),\n",
    "    (10, 'Kimmy', 'Whitlam', 47, 'F', 'Receptionist')"
   ]
  }
 ],
 "metadata": {
  "kernelspec": {
   "display_name": "Python 3",
   "language": "python",
   "name": "python3"
  },
  "language_info": {
   "codemirror_mode": {
    "name": "ipython",
    "version": 3
   },
   "file_extension": ".py",
   "mimetype": "text/x-python",
   "name": "python",
   "nbconvert_exporter": "python",
   "pygments_lexer": "ipython3",
   "version": "3.7.4"
  }
 },
 "nbformat": 4,
 "nbformat_minor": 2
}
